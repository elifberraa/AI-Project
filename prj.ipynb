{
 "cells": [
  {
   "cell_type": "markdown",
   "id": "44d3f830",
   "metadata": {},
   "source": [
    "## PART 1 - DATA PREPROCESSING"
   ]
  },
  {
   "cell_type": "code",
   "execution_count": 1,
   "id": "666f88e9",
   "metadata": {},
   "outputs": [],
   "source": [
    "import csv\n",
    "import re\n",
    "import tensorflow as tf\n",
    "import numpy as np\n",
    "from tensorflow.keras.preprocessing.text import Tokenizer\n",
    "from tensorflow.keras.preprocessing.sequence import pad_sequences\n",
    "from tensorflow.keras.layers import BatchNormalization\n",
    "import torch\n",
    "import torchvision\n",
    "import nlpaug.augmenter.word as naw\n",
    "import matplotlib.pyplot as plt"
   ]
  },
  {
   "cell_type": "code",
   "execution_count": 2,
   "id": "9427895f",
   "metadata": {},
   "outputs": [
    {
     "name": "stdout",
     "output_type": "stream",
     "text": [
      "Each data point looks like this:\n",
      "﻿terridawnarnold;1;@mylearnie @DistanceLrnBot Distance learning may be the future for even more students than before Covid-19. Brick and mortar schools will be modified. At least that is a theory some educators share.;;;;;\n",
      "\n"
     ]
    }
   ],
   "source": [
    "with open(\"C:\\data\\son.csv\", 'r',encoding='utf-8') as file:\n",
    "    print(f\"Each data point looks like this:\\n{file.readline()}\")"
   ]
  },
  {
   "cell_type": "markdown",
   "id": "e25b324b",
   "metadata": {},
   "source": [
    "The removal of stopwords from text data is a critical step. They are the most often used words in the language, yet they rarely provide useful information. \n",
    "\n",
    "This function receives a string, removes the predetermined stopwords and the punctuations from that string."
   ]
  },
  {
   "cell_type": "code",
   "execution_count": 3,
   "id": "83f51817",
   "metadata": {},
   "outputs": [],
   "source": [
    "def removeStopwords(sentence):\n",
    "    # List of stopwords\n",
    "    stopwords = [\"a\", \"about\", \"above\", \"after\", \"again\", \"against\", \"all\", \"am\", \"an\", \"and\", \"any\", \"are\", \"as\", \"at\", \n",
    "                 \"be\", \"because\", \"been\", \"before\", \"being\", \"below\", \"between\", \"both\", \"but\", \"by\", \"could\",\"down\", \n",
    "                 \"during\", \"each\", \"few\", \"for\", \"from\", \"further\", \"had\",\"having\",\"have\",\n",
    "                 \"he\", \"he'd\", \"he'll\", \"he's\", \"her\", \"here\", \"here's\", \"hers\", \"herself\", \"him\", \"himself\", \"his\", \"how\",\n",
    "                 \"how's\", \"i\", \"i'd\", \"i'll\", \"i'm\", \"i've\", \"if\", \"in\", \"into\", \"is\", \"it\", \"it's\", \"its\", \"itself\", \n",
    "                 \"let's\", \"me\", \"more\", \"most\", \"my\", \"myself\", \"of\", \"on\", \"once\", \"only\", \"or\", \"other\", \"ought\", \n",
    "                 \"our\", \"ours\", \"ourselves\", \"out\", \"over\", \"own\", \"same\", \"she\", \"she'd\", \"she'll\", \"she's\", \"should\", \n",
    "                 \"so\", \"some\", \"such\", \"than\", \"that\", \"that's\", \"the\", \"their\", \"theirs\", \"them\", \"themselves\", \"then\", \n",
    "                 \"there\", \"there's\", \"these\", \"they\", \"they'd\", \"they'll\", \"they're\", \"they've\", \"this\", \"those\", \"though\",\n",
    "                 \"through\", \"to\", \"too\", \"under\", \"until\", \"up\", \"very\", \"was\", \"we\", \"we'd\", \"we'll\", \"we're\", \"we've\", \n",
    "                 \"were\", \"what\", \"what's\", \"when\", \"when's\", \"where\", \"where's\", \"which\", \"while\", \"who\", \"who's\", \"whom\",\n",
    "                 \"why\", \"why's\", \"with\", \"would\", \"you\", \"you'd\", \"you'll\", \"you're\", \"you've\", \"your\", \"yours\", \"yourself\",\n",
    "                 \"yourselves\" ]\n",
    "    \n",
    "    # Convert sentences to lowercase\n",
    "    sentence = sentence.lower()\n",
    "    \n",
    "    # Divide sentences into a list\n",
    "    sentence = sentence.split()\n",
    "    \n",
    "    words = []\n",
    "    for word in sentence:\n",
    "        if word not in stopwords:\n",
    "            words.append(word)\n",
    "    sentence = ' '.join([str(elem) for elem in words])\n",
    "    \n",
    "     # remove punctuation\n",
    "    sentence = re.sub(r'[^\\w\\s]', '', sentence)\n",
    "    \n",
    "    return sentence"
   ]
  },
  {
   "cell_type": "code",
   "execution_count": 4,
   "id": "47d4f86d",
   "metadata": {},
   "outputs": [],
   "source": [
    "def removeUsernames(sentence):\n",
    "    # remove urls\n",
    "    sentence = re.sub(r\"http\\S+ *\", \"\", sentence)\n",
    "    # remove usernames\n",
    "    sentence = re.sub(r'@\\S+ *', '', sentence)\n",
    "    return sentence"
   ]
  },
  {
   "cell_type": "markdown",
   "id": "ecc96044",
   "metadata": {},
   "source": [
    "Let's check how well the function works. We will remove the stopword from the sentence \"There are places I'll remember, all my life though some have changed...\"\n",
    "\n",
    "It should become \"places remember, life changed\""
   ]
  },
  {
   "cell_type": "code",
   "execution_count": 5,
   "id": "95067653",
   "metadata": {},
   "outputs": [
    {
     "data": {
      "text/plain": [
       "'places remember life changed'"
      ]
     },
     "execution_count": 5,
     "metadata": {},
     "output_type": "execute_result"
    }
   ],
   "source": [
    "removeStopwords(\"There are places I'll remember, all my life though some have changed...\")"
   ]
  },
  {
   "cell_type": "markdown",
   "id": "20eaf2e9",
   "metadata": {},
   "source": [
    "Now we need to read the data from the csv file. We will read it line by line, and omit the first line as it contains the headers and not data points.\n",
    "Each data is separated by a comma. The first part is the username, second part is the label of the data and the last part is the actual data. Since the username is an unnecessary information, we will not save it. "
   ]
  },
  {
   "cell_type": "code",
   "execution_count": 6,
   "id": "97873791",
   "metadata": {},
   "outputs": [],
   "source": [
    "def readFromFile(filename):\n",
    "    sentences = []\n",
    "    labels = []\n",
    "    \n",
    "    with open(filename, 'r',encoding='utf-8') as csvfile:\n",
    "        reader = csv.reader(csvfile, delimiter=';')\n",
    "        lineCount = 0\n",
    "        # we will omit the first line since it contains the headers\n",
    "        for row in reader:\n",
    "            if lineCount == 0:\n",
    "                lineCount += 1\n",
    "                \n",
    "            # row[0] is the username\n",
    "            # row[1] is the label\n",
    "            # row[2] is the sentence\n",
    "            else:              \n",
    "                if row[1] != '2':\n",
    "                    labels.append(int(row[1]))\n",
    "                    sentences.append(removeUsernames(row[2]))\n",
    "                lineCount += 1\n",
    "        \n",
    "    return sentences, labels"
   ]
  },
  {
   "cell_type": "code",
   "execution_count": 7,
   "id": "3511dddb",
   "metadata": {},
   "outputs": [
    {
     "name": "stdout",
     "output_type": "stream",
     "text": [
      "There are 406 sentences in the dataset\n",
      "There are 406 labels in the dataset\n",
      "\n"
     ]
    }
   ],
   "source": [
    "sentences, labels = readFromFile(\"C:\\data\\son.csv\")\n",
    "\n",
    "print(\"There are\", len(sentences), \"sentences in the dataset\")\n",
    "print(\"There are\", len(labels), \"labels in the dataset\\n\")\n"
   ]
  },
  {
   "cell_type": "code",
   "execution_count": 8,
   "id": "a64a6812",
   "metadata": {},
   "outputs": [],
   "source": [
    "size = 300\n",
    "\n",
    "aug = naw.ContextualWordEmbsAug(\n",
    "    model_path='bert-base-uncased', action=\"insert\")\n",
    "augmented_sentences = aug.augment(sentences[0:size])"
   ]
  },
  {
   "cell_type": "markdown",
   "id": "683ee485",
   "metadata": {},
   "source": [
    "Let's check the first 10 data points:"
   ]
  },
  {
   "cell_type": "code",
   "execution_count": 9,
   "id": "02467dc5",
   "metadata": {
    "scrolled": true
   },
   "outputs": [
    {
     "name": "stdout",
     "output_type": "stream",
     "text": [
      "Label: 0\n",
      "Sentence: Rasa sebak pulak nak buat reflective essay pasal impact covid-19 on online learning. Suddenly it hit me soo hard with all the struggles, mental breakdown, crying session, give up with my degree. Literally during the process just dull. I officially unlock myself into another level\n",
      "\n",
      "Label: 1\n",
      "Sentence: i am not mentally ready to wake up at 7 again but its good bc I am doin online bc of how bad covid is🤦🏽(only going to school for like 3 days)\n",
      "\n",
      "Label: 0\n",
      "Sentence: It will be more dangerous for my 13yo for schools not to reopen on time. Last lockdown he started cutting himself from the anxiety of remote learning. He is fully vaccinated - we have to balance very carefully COVID against other health concerns (especially mental health).\n",
      "\n",
      "Label: 1\n",
      "Sentence: This is why we need to STOP Mass Testing Now #together  \"The biggest threat to keeping children in face-to-face education will be high numbers of teachers forced into self-isolation after testing positive for Covid-19\"  #TogetherDeclaration \n",
      "\n",
      "Label: 0\n",
      "Sentence: If the upper class entitled families at my school who refused their COVID vaccine get COVID and we are asked to quarantine I will refuse. We will not participate in the ineffective distance learning AZ has for their schools.\n",
      "\n",
      "Label: 1\n",
      "Sentence: I believe that it is better if it stays online education till Covid-19 have a treatment. Because it is very dangerous to have face to face education and most of the country’s still on quarantine.\n",
      "\n",
      "Label: 0\n",
      "Sentence: #education #learning Keeping schools closed risks children's futures. Schools aren't spreading Covid, data show. And remote ed isn't working for most kids.  \n",
      "\n",
      "Label: 0\n",
      "Sentence: Our son has been doing online learning ....its not safe in the schools 😕 everyone we know thats had covid got it from their kids or grandkids  who caught it at school because there are 0 protections in place 😳my son does have anxiety because he knows Covids not gone\n",
      "\n",
      "Label: 0\n",
      "Sentence: Thank you so much for this piece. The paranoia and fear among parents and teachers is blinding them to how harmful distance learning is, particularly for kids who are just now totally off the grid/abandoned. All they can think about is Covid, not the dozens of other risks.\n",
      "\n",
      "Label: 0\n",
      "Sentence: Schools plan for remote learning rotas as Covid disruption spreads. Move risks worsening ‘digital divide’ for students without laptops or the internet.  \n",
      "\n"
     ]
    }
   ],
   "source": [
    "for i in range(10):\n",
    "    print(\"Label:\",labels[i])\n",
    "    print(\"Sentence:\",sentences[i])\n",
    "    print()"
   ]
  },
  {
   "cell_type": "markdown",
   "id": "7a61d5ea",
   "metadata": {},
   "source": [
    "Let's check the first 10 augmented sentences:"
   ]
  },
  {
   "cell_type": "code",
   "execution_count": 10,
   "id": "a1752384",
   "metadata": {},
   "outputs": [
    {
     "name": "stdout",
     "output_type": "stream",
     "text": [
      "Augmented Sentence: ana rasa sebak pulak nak buat reflective essay pasal de impact covid - 19 project on online learning. suddenly in it has hit me and soo hard with all in the struggles, mental breakdown, crying session, give growing up everything with my degree. literally during the process just dull. i officially unlock myself into having another level\n",
      "Label: 0\n",
      "\n",
      "Augmented Sentence: plus i am not so mentally ever ready to wake up early at 7 again but its good bc instead i am doin online bc of knowing how it bad covid [UNK] ( only going to school for something like... 3 weeks days )\n",
      "Label: 1\n",
      "\n",
      "Augmented Sentence: it will not be more dangerous for what my 13yo for schools teachers not to reopen on time. that last lockdown he started cutting himself from the anxiety of remote and learning. he still is fully already vaccinated - we have to conserve balance very also carefully covid against other health concerns ( potentially especially mental health ).\n",
      "Label: 0\n",
      "\n",
      "Augmented Sentence: this is why why we ultimately need to stop doing mass testing now # together \" the biggest threat to keeping children in their face - to - face education will often be unusually high numbers of teachers likely forced into self - isolation after routine testing positive documentation for covid - 19 \" # gather togetherdeclaration\n",
      "Label: 1\n",
      "\n",
      "Augmented Sentence: if the ruling upper class for entitled families protested at all my former school who refused their covid vaccine get covid and we are asked home to quarantine i always will refuse. we will therefore not blindly participate in the ineffective distance learning az has for organizing their schools.\n",
      "Label: 0\n",
      "\n",
      "Augmented Sentence: i believe sometimes that perhaps it is better if not it stays online outside education till covid - 19 have a treatment. mainly because it is very dangerous just to have face to last face in education and most of the country 1 ’ ° s still on quarantine.\n",
      "Label: 1\n",
      "\n",
      "Augmented Sentence: # education # learning keeping poor schools closed for risks children's future futures. but schools aren't for spreading covid, the data will show. and remote ed schools isn't working now for me most kids.\n",
      "Label: 0\n",
      "\n",
      "Augmented Sentence: our son has even been doing online learning.... its not safe in the schools department [UNK] everyone we know thats had covid it got it from their kids or grandkids [UNK] who caught it at school always because there are 0 protections in place [UNK] family son does have these anxiety problems because he knows my covids not have gone\n",
      "Label: 0\n",
      "\n",
      "Augmented Sentence: thank you so much again for this last piece. the paranoia level and fear among parents nearby and teachers everywhere is slowly blinding them to how harmful virtual distance learning is, particularly and for kids who are just now totally off the grid / abandoned. all they can think about tonight is covid, not the possible dozens of other risks.\n",
      "Label: 0\n",
      "\n",
      "Augmented Sentence: schools will plan for remote learning rotas happen as a covid world disruption spreads. move forward risks worsening schools ‘ digital divide ’ for students working without smart laptops... or the internet.\n",
      "Label: 0\n",
      "\n"
     ]
    }
   ],
   "source": [
    "for i in range(10):\n",
    "    print(\"Augmented Sentence:\",augmented_sentences[i])\n",
    "    print(\"Label:\",labels[i])\n",
    "    print()"
   ]
  },
  {
   "cell_type": "markdown",
   "id": "74bab981",
   "metadata": {},
   "source": [
    "Concatenate the sentences and the augmented sentences and their corresponding labels:"
   ]
  },
  {
   "cell_type": "code",
   "execution_count": 11,
   "id": "8809d5ae",
   "metadata": {},
   "outputs": [
    {
     "name": "stdout",
     "output_type": "stream",
     "text": [
      "Sentences have 406 elements and labels have 406 elements before the concatenation\n",
      "Sentences have 706 elements and labels have 706 elements after the concatenation\n"
     ]
    }
   ],
   "source": [
    "print(f\"Sentences have {len(sentences)} elements and labels have {len(labels)} elements before the concatenation\")\n",
    "sentences += augmented_sentences\n",
    "labels += labels[0:size]\n",
    "print(f\"Sentences have {len(sentences)} elements and labels have {len(labels)} elements after the concatenation\")"
   ]
  },
  {
   "cell_type": "code",
   "execution_count": 12,
   "id": "044be7f6",
   "metadata": {},
   "outputs": [],
   "source": [
    "newSentences = []\n",
    "for i in range(len(sentences)):\n",
    "    newSentences.append(removeStopwords(sentences[i]))\n",
    "sentences = newSentences"
   ]
  },
  {
   "cell_type": "markdown",
   "id": "e5a2fc71",
   "metadata": {},
   "source": [
    "Let's check the first 10 data points again after removal of the stop words"
   ]
  },
  {
   "cell_type": "code",
   "execution_count": 13,
   "id": "80687e43",
   "metadata": {},
   "outputs": [
    {
     "name": "stdout",
     "output_type": "stream",
     "text": [
      "Label: 0\n",
      "Sentence: rasa sebak pulak nak buat reflective essay pasal impact covid19 online learning suddenly hit soo hard struggles mental breakdown crying session give degree literally process just dull officially unlock another level\n",
      "\n",
      "Label: 1\n",
      "Sentence: not mentally ready wake 7 good bc doin online bc bad covid isonly going school like 3 days\n",
      "\n",
      "Label: 0\n",
      "Sentence: will dangerous 13yo schools not reopen time last lockdown started cutting anxiety remote learning fully vaccinated  balance carefully covid health concerns especially mental health\n",
      "\n",
      "Label: 1\n",
      "Sentence: need stop mass testing now together the biggest threat keeping children facetoface education will high numbers teachers forced selfisolation testing positive covid19 togetherdeclaration\n",
      "\n",
      "Label: 0\n",
      "Sentence: upper class entitled families school refused covid vaccine get covid asked quarantine will refuse will not participate ineffective distance learning az has schools\n",
      "\n",
      "Label: 1\n",
      "Sentence: believe better stays online education till covid19 treatment dangerous face face education countrys still quarantine\n",
      "\n",
      "Label: 0\n",
      "Sentence: education learning keeping schools closed risks childrens futures schools arent spreading covid data show remote ed isnt working kids\n",
      "\n",
      "Label: 0\n",
      "Sentence: son has doing online learning its not safe schools  everyone know thats covid got kids grandkids caught school 0 protections place my son does anxiety knows covids not gone\n",
      "\n",
      "Label: 0\n",
      "Sentence: thank much piece paranoia fear among parents teachers blinding harmful distance learning is particularly kids just now totally off gridabandoned can think covid not dozens risks\n",
      "\n",
      "Label: 0\n",
      "Sentence: schools plan remote learning rotas covid disruption spreads move risks worsening digital divide students without laptops internet\n",
      "\n"
     ]
    }
   ],
   "source": [
    "for i in range(10):\n",
    "    print(\"Label:\",labels[i])\n",
    "    print(\"Sentence:\",sentences[i])\n",
    "    print()"
   ]
  },
  {
   "cell_type": "code",
   "execution_count": 14,
   "id": "680e3411",
   "metadata": {},
   "outputs": [
    {
     "name": "stdout",
     "output_type": "stream",
     "text": [
      "First sentence has 31 words after removal of the stopwords\n",
      "The first 5 labels are [0, 1, 0, 1, 0]\n",
      "0: Negative\t1: Positive\n"
     ]
    }
   ],
   "source": [
    "print(\"First sentence has\", len(sentences[0].split()), \"words after removal of the stopwords\")\n",
    "print(f\"The first 5 labels are {labels[:5]}\")\n",
    "print(\"0: Negative\\t1: Positive\")"
   ]
  },
  {
   "cell_type": "code",
   "execution_count": 15,
   "id": "c2690eca",
   "metadata": {
    "scrolled": true
   },
   "outputs": [
    {
     "name": "stdout",
     "output_type": "stream",
     "text": [
      "Positive: 312\n",
      "Negative: 394\n"
     ]
    }
   ],
   "source": [
    "positive = 0\n",
    "negative = 0\n",
    "\n",
    "for i in range(len(labels)):\n",
    "    if labels[i] == 0:\n",
    "        negative += 1\n",
    "    elif labels[i] == 1:\n",
    "        positive += 1\n",
    "print(\"Positive:\",positive)\n",
    "print(\"Negative:\",negative)"
   ]
  },
  {
   "cell_type": "code",
   "execution_count": 16,
   "id": "0cd21c5d",
   "metadata": {
    "scrolled": true
   },
   "outputs": [
    {
     "data": {
      "image/png": "[encoded data removed]",
      "text/plain": [
       "<Figure size 432x288 with 1 Axes>"
      ]
     },
     "metadata": {},
     "output_type": "display_data"
    }
   ],
   "source": [
    "mylabels = [\"Positive\", \"Negative\"]\n",
    "\n",
    "plt.pie([positive,negative], labels = mylabels,colors=[\"lightblue\",'lightseagreen'])\n",
    "plt.show() "
   ]
  },
  {
   "cell_type": "markdown",
   "id": "34694658",
   "metadata": {},
   "source": [
    "Our data set is a little imbalanced. The number of negative labels is greater than the positive labels."
   ]
  },
  {
   "cell_type": "markdown",
   "id": "5be6a927",
   "metadata": {},
   "source": [
    "## TOKENIZATION"
   ]
  },
  {
   "cell_type": "code",
   "execution_count": 17,
   "id": "f0d891d2",
   "metadata": {},
   "outputs": [],
   "source": [
    "OOV = \"<OOV>\"\n",
    "VOCAB_SIZE = 500"
   ]
  },
  {
   "cell_type": "code",
   "execution_count": 18,
   "id": "15099338",
   "metadata": {},
   "outputs": [],
   "source": [
    "tokenizer = Tokenizer(num_words=VOCAB_SIZE, oov_token = OOV)\n",
    "tokenizer.fit_on_texts(sentences)\n",
    "words = tokenizer.word_index\n",
    "# VOCAB_SIZE = len(tokenizer.word_index) + 1"
   ]
  },
  {
   "cell_type": "code",
   "execution_count": 19,
   "id": "247b56b9",
   "metadata": {},
   "outputs": [
    {
     "data": {
      "text/plain": [
       "3382"
      ]
     },
     "execution_count": 19,
     "metadata": {},
     "output_type": "execute_result"
    }
   ],
   "source": [
    "len(tokenizer.word_index)"
   ]
  },
  {
   "cell_type": "markdown",
   "id": "3494eacf",
   "metadata": {},
   "source": [
    "Find the largest sentence and its number of words ( to be able to use in padding )"
   ]
  },
  {
   "cell_type": "code",
   "execution_count": 20,
   "id": "7b1f39fb",
   "metadata": {},
   "outputs": [],
   "source": [
    "MAXLEN = 0\n",
    "for s in sentences:\n",
    "    word_list = s.split()\n",
    "    num = len(word_list)\n",
    "    if MAXLEN < num:\n",
    "        MAXLEN = num"
   ]
  },
  {
   "cell_type": "code",
   "execution_count": 21,
   "id": "e18a5428",
   "metadata": {},
   "outputs": [
    {
     "data": {
      "text/plain": [
       "45"
      ]
     },
     "execution_count": 21,
     "metadata": {},
     "output_type": "execute_result"
    }
   ],
   "source": [
    "MAXLEN"
   ]
  },
  {
   "cell_type": "code",
   "execution_count": 22,
   "id": "6cde14b9",
   "metadata": {},
   "outputs": [],
   "source": [
    "MAXLEN = MAXLEN - 10\n",
    "sequences = tokenizer.texts_to_sequences(sentences)\n",
    "paddedSequences = pad_sequences(sequences, padding= 'post', maxlen = MAXLEN)"
   ]
  },
  {
   "cell_type": "markdown",
   "id": "275ac236",
   "metadata": {},
   "source": [
    "### Split the data into training set and validation set"
   ]
  },
  {
   "cell_type": "code",
   "execution_count": 23,
   "id": "46872146",
   "metadata": {},
   "outputs": [],
   "source": [
    "# shuffle the data\n",
    "\n",
    "labels = np.asarray(labels)\n",
    "indices = np.arange(paddedSequences.shape[0])\n",
    "np.random.shuffle(indices)\n",
    "paddedSequences = paddedSequences[indices]\n",
    "labels = labels[indices]"
   ]
  },
  {
   "cell_type": "code",
   "execution_count": 24,
   "id": "e6065cf0",
   "metadata": {},
   "outputs": [],
   "source": [
    "split = 0.2\n",
    "testSetSize = int(len(sentences)*split)\n",
    "\n",
    "\n",
    "X_test = paddedSequences[0:testSetSize]   # take first n elements of the sequences for the test set\n",
    "X = paddedSequences[testSetSize:]    # take the rest for X set\n",
    "y_test = labels[0:testSetSize]   # take first n elements of the labels for the test set\n",
    "y = labels[testSetSize:]  # take the rest for y set\n",
    "\n",
    "valSetSize = int(len(X)*split)\n",
    "\n",
    "# Split the X and y sets into trainnig sets and validation sets\n",
    "\n",
    "X_val = X[0:valSetSize]\n",
    "y_val = y[0:valSetSize]\n",
    "X_train = X[valSetSize:]\n",
    "y_train = y[valSetSize:]\n"
   ]
  },
  {
   "cell_type": "code",
   "execution_count": 25,
   "id": "e3e4b42a",
   "metadata": {},
   "outputs": [
    {
     "name": "stdout",
     "output_type": "stream",
     "text": [
      "Training set has 452 sentences and 452 labels\n",
      "Validation set has 113 sentences and 113 labels\n",
      "Test set has 141 sentences and 141 labels\n"
     ]
    }
   ],
   "source": [
    "print(\"Training set has\",len(X_train),\"sentences and\",len(y_train),\"labels\")\n",
    "print(\"Validation set has\",len(X_val),\"sentences and\",len(y_val),\"labels\")\n",
    "print(\"Test set has\",len(X_test),\"sentences and\",len(y_test),\"labels\")"
   ]
  },
  {
   "cell_type": "code",
   "execution_count": 26,
   "id": "5413669d",
   "metadata": {},
   "outputs": [
    {
     "name": "stdout",
     "output_type": "stream",
     "text": [
      "Shape of the padded training sequences: (452, 35)\n",
      "Shape of the padded validation sequences: (113, 35)\n",
      "Shape of the padded testing sequences: (113, 35)\n"
     ]
    }
   ],
   "source": [
    "print(\"Shape of the padded training sequences:\", X_train.shape)\n",
    "print(\"Shape of the padded validation sequences:\", X_val.shape)\n",
    "print(\"Shape of the padded testing sequences:\", X_val.shape)"
   ]
  },
  {
   "cell_type": "markdown",
   "id": "9d0dc093",
   "metadata": {},
   "source": [
    "# PART 2 - BUILDING THE MODEL"
   ]
  },
  {
   "cell_type": "markdown",
   "id": "f139ae0e",
   "metadata": {},
   "source": [
    "## Simple RNN Model"
   ]
  },
  {
   "cell_type": "code",
   "execution_count": 27,
   "id": "9f1dad0b",
   "metadata": {
    "scrolled": true
   },
   "outputs": [
    {
     "name": "stdout",
     "output_type": "stream",
     "text": [
      "Epoch 1/10\n",
      "23/23 [==============================] - 2s 27ms/step - loss: 0.7084 - accuracy: 0.5465 - val_loss: 0.6726 - val_accuracy: 0.6460\n",
      "Epoch 2/10\n",
      "23/23 [==============================] - 0s 14ms/step - loss: 0.6899 - accuracy: 0.5310 - val_loss: 0.7083 - val_accuracy: 0.5575\n",
      "Epoch 3/10\n",
      "23/23 [==============================] - 0s 14ms/step - loss: 0.6045 - accuracy: 0.6792 - val_loss: 0.7407 - val_accuracy: 0.5310\n",
      "Epoch 4/10\n",
      "23/23 [==============================] - 0s 13ms/step - loss: 0.4083 - accuracy: 0.8518 - val_loss: 0.9289 - val_accuracy: 0.4956\n",
      "Epoch 5/10\n",
      "23/23 [==============================] - 0s 13ms/step - loss: 0.2649 - accuracy: 0.9137 - val_loss: 0.8492 - val_accuracy: 0.5929\n",
      "Epoch 6/10\n",
      "23/23 [==============================] - 0s 13ms/step - loss: 0.1376 - accuracy: 0.9580 - val_loss: 1.1287 - val_accuracy: 0.5133\n",
      "Epoch 7/10\n",
      "23/23 [==============================] - 0s 12ms/step - loss: 0.0774 - accuracy: 0.9801 - val_loss: 1.3691 - val_accuracy: 0.5221\n",
      "Epoch 8/10\n",
      "23/23 [==============================] - 0s 12ms/step - loss: 0.0845 - accuracy: 0.9735 - val_loss: 1.4532 - val_accuracy: 0.5133\n",
      "Epoch 9/10\n",
      "23/23 [==============================] - 0s 13ms/step - loss: 0.0702 - accuracy: 0.9779 - val_loss: 1.3115 - val_accuracy: 0.5841\n",
      "Epoch 10/10\n",
      "23/23 [==============================] - 0s 14ms/step - loss: 0.0688 - accuracy: 0.9690 - val_loss: 1.3771 - val_accuracy: 0.4867\n"
     ]
    }
   ],
   "source": [
    "EMB_DIM = 32\n",
    "\n",
    "model = tf.keras.Sequential([\n",
    "\n",
    "    tf.keras.layers.Embedding(VOCAB_SIZE,EMB_DIM,input_length=MAXLEN),\n",
    "    tf.keras.layers.SimpleRNN(64,dropout=0.2,return_sequences=True),\n",
    "    tf.keras.layers.SimpleRNN(32),\n",
    "    tf.keras.layers.Dense(16, activation='relu'),\n",
    "    tf.keras.layers.Dense(2, activation='softmax')\n",
    "])\n",
    "model.compile(loss='sparse_categorical_crossentropy',optimizer='adam',metrics=['accuracy'])\n",
    "history = model.fit(X_train, y_train, batch_size=20, epochs=10, validation_data=(X_val, y_val))"
   ]
  },
  {
   "cell_type": "code",
   "execution_count": 28,
   "id": "cd8a968b",
   "metadata": {},
   "outputs": [
    {
     "data": {
      "image/png": "[encoded data removed]",
      "text/plain": [
       "<Figure size 1008x432 with 2 Axes>"
      ]
     },
     "metadata": {
      "needs_background": "light"
     },
     "output_type": "display_data"
    }
   ],
   "source": [
    "plt.figure(figsize=(14,6))\n",
    "plt.subplot(1,2,1)\n",
    "plt.yticks(np.arange(-1, 1, 0.05))\n",
    "plt.plot(history.history[\"accuracy\"])\n",
    "plt.plot(history.history['val_accuracy'])\n",
    "plt.xlabel(\"Epochs\")\n",
    "plt.ylabel(\"Accuracy\")\n",
    "plt.legend([\"accuracy\", 'val_accuracy'])\n",
    "\n",
    "plt.subplot(1,2,2)\n",
    "plt.plot(history.history[\"loss\"])\n",
    "plt.plot(history.history['val_loss'])\n",
    "plt.xlabel(\"Epochs\")\n",
    "plt.ylabel(\"Loss\")\n",
    "plt.legend([\"loss\", 'val_loss'])\n",
    "plt.show()"
   ]
  },
  {
   "cell_type": "markdown",
   "id": "7d97ecce",
   "metadata": {},
   "source": [
    "## GRU Model"
   ]
  },
  {
   "cell_type": "code",
   "execution_count": 44,
   "id": "03c0d0a6",
   "metadata": {
    "scrolled": false
   },
   "outputs": [
    {
     "name": "stdout",
     "output_type": "stream",
     "text": [
      "Epoch 1/15\n",
      "23/23 [==============================] - 5s 70ms/step - loss: 0.6941 - accuracy: 0.5332 - val_loss: 0.6814 - val_accuracy: 0.6549\n",
      "Epoch 2/15\n",
      "23/23 [==============================] - 1s 42ms/step - loss: 0.6915 - accuracy: 0.5265 - val_loss: 0.6767 - val_accuracy: 0.6549\n",
      "Epoch 3/15\n",
      "23/23 [==============================] - 1s 39ms/step - loss: 0.6898 - accuracy: 0.5133 - val_loss: 0.6968 - val_accuracy: 0.4248\n",
      "Epoch 4/15\n",
      "23/23 [==============================] - 1s 42ms/step - loss: 0.6838 - accuracy: 0.4978 - val_loss: 0.6681 - val_accuracy: 0.4690\n",
      "Epoch 5/15\n",
      "23/23 [==============================] - 1s 41ms/step - loss: 0.5482 - accuracy: 0.7345 - val_loss: 0.6145 - val_accuracy: 0.7257\n",
      "Epoch 6/15\n",
      "23/23 [==============================] - 1s 41ms/step - loss: 0.3405 - accuracy: 0.8628 - val_loss: 0.7837 - val_accuracy: 0.7168\n",
      "Epoch 7/15\n",
      "23/23 [==============================] - 1s 42ms/step - loss: 0.2414 - accuracy: 0.8938 - val_loss: 0.5299 - val_accuracy: 0.7257\n",
      "Epoch 8/15\n",
      "23/23 [==============================] - 1s 41ms/step - loss: 0.1577 - accuracy: 0.9381 - val_loss: 0.6287 - val_accuracy: 0.6903\n",
      "Epoch 9/15\n",
      "23/23 [==============================] - 1s 38ms/step - loss: 0.1921 - accuracy: 0.9314 - val_loss: 0.4292 - val_accuracy: 0.8319\n",
      "Epoch 10/15\n",
      "23/23 [==============================] - 1s 41ms/step - loss: 0.1631 - accuracy: 0.9381 - val_loss: 0.6055 - val_accuracy: 0.8053\n",
      "Epoch 11/15\n",
      "23/23 [==============================] - 1s 41ms/step - loss: 0.0721 - accuracy: 0.9735 - val_loss: 0.5885 - val_accuracy: 0.7965\n",
      "Epoch 12/15\n",
      "23/23 [==============================] - 1s 42ms/step - loss: 0.0776 - accuracy: 0.9735 - val_loss: 0.6637 - val_accuracy: 0.8496\n",
      "Epoch 13/15\n",
      "23/23 [==============================] - 1s 44ms/step - loss: 0.0574 - accuracy: 0.9757 - val_loss: 0.6768 - val_accuracy: 0.8230\n",
      "Epoch 14/15\n",
      "23/23 [==============================] - 1s 42ms/step - loss: 0.0423 - accuracy: 0.9867 - val_loss: 0.8092 - val_accuracy: 0.7611\n",
      "Epoch 15/15\n",
      "23/23 [==============================] - 1s 41ms/step - loss: 0.0412 - accuracy: 0.9889 - val_loss: 0.8264 - val_accuracy: 0.8407\n"
     ]
    }
   ],
   "source": [
    "EMB_DIM = 32\n",
    "\n",
    "model = tf.keras.Sequential([\n",
    "\n",
    "    tf.keras.layers.Embedding(VOCAB_SIZE,EMB_DIM,input_length=MAXLEN),\n",
    "    tf.keras.layers.GRU(64,dropout=0.2,return_sequences=True),\n",
    "    tf.keras.layers.GRU(64),\n",
    "    tf.keras.layers.Dense(32, activation='relu'),\n",
    "    tf.keras.layers.Dense(2, activation='softmax')\n",
    "])\n",
    "model.compile(loss='sparse_categorical_crossentropy',optimizer='adam',metrics=['accuracy'])\n",
    "history = model.fit(X_train, y_train, batch_size=20, epochs=15, validation_data=(X_val, y_val))"
   ]
  },
  {
   "cell_type": "code",
   "execution_count": 40,
   "id": "99e02afc",
   "metadata": {},
   "outputs": [
    {
     "data": {
      "image/png": "[encoded data removed]",
      "text/plain": [
       "<Figure size 1008x432 with 2 Axes>"
      ]
     },
     "metadata": {
      "needs_background": "light"
     },
     "output_type": "display_data"
    }
   ],
   "source": [
    "plt.figure(figsize=(14,6))\n",
    "plt.subplot(1,2,1)\n",
    "plt.yticks(np.arange(-1, 1, 0.05))\n",
    "plt.plot(history.history[\"accuracy\"])\n",
    "plt.plot(history.history['val_accuracy'])\n",
    "plt.xlabel(\"Epochs\")\n",
    "plt.ylabel(\"Accuracy\")\n",
    "plt.legend([\"accuracy\", 'val_accuracy'])\n",
    "\n",
    "plt.subplot(1,2,2)\n",
    "plt.plot(history.history[\"loss\"])\n",
    "plt.plot(history.history['val_loss'])\n",
    "plt.xlabel(\"Epochs\")\n",
    "plt.ylabel(\"Loss\")\n",
    "plt.legend([\"loss\", 'val_loss'])\n",
    "plt.show()"
   ]
  },
  {
   "cell_type": "markdown",
   "id": "bf1b9a30",
   "metadata": {},
   "source": [
    "## LSTM Model"
   ]
  },
  {
   "cell_type": "code",
   "execution_count": 41,
   "id": "2c7cc156",
   "metadata": {},
   "outputs": [
    {
     "name": "stdout",
     "output_type": "stream",
     "text": [
      "Epoch 1/15\n",
      "23/23 [==============================] - 7s 95ms/step - loss: 0.6938 - accuracy: 0.5221 - val_loss: 0.6814 - val_accuracy: 0.6549\n",
      "Epoch 2/15\n",
      "23/23 [==============================] - 1s 43ms/step - loss: 0.6714 - accuracy: 0.6040 - val_loss: 0.5673 - val_accuracy: 0.7611\n",
      "Epoch 3/15\n",
      "23/23 [==============================] - 1s 42ms/step - loss: 0.4878 - accuracy: 0.8009 - val_loss: 0.6352 - val_accuracy: 0.6903\n",
      "Epoch 4/15\n",
      "23/23 [==============================] - 1s 43ms/step - loss: 0.3246 - accuracy: 0.8739 - val_loss: 0.8021 - val_accuracy: 0.7611\n",
      "Epoch 5/15\n",
      "23/23 [==============================] - 1s 43ms/step - loss: 0.1924 - accuracy: 0.9358 - val_loss: 0.5276 - val_accuracy: 0.8407\n",
      "Epoch 6/15\n",
      "23/23 [==============================] - 1s 42ms/step - loss: 0.1394 - accuracy: 0.9535 - val_loss: 0.6411 - val_accuracy: 0.7788\n",
      "Epoch 7/15\n",
      "23/23 [==============================] - 1s 44ms/step - loss: 0.1056 - accuracy: 0.9668 - val_loss: 0.8103 - val_accuracy: 0.7699\n",
      "Epoch 8/15\n",
      "23/23 [==============================] - 1s 44ms/step - loss: 0.0699 - accuracy: 0.9712 - val_loss: 0.7161 - val_accuracy: 0.7965\n",
      "Epoch 9/15\n",
      "23/23 [==============================] - 1s 43ms/step - loss: 0.0246 - accuracy: 0.9956 - val_loss: 1.0098 - val_accuracy: 0.7876\n",
      "Epoch 10/15\n",
      "23/23 [==============================] - 1s 42ms/step - loss: 0.0448 - accuracy: 0.9867 - val_loss: 0.8843 - val_accuracy: 0.7876\n",
      "Epoch 11/15\n",
      "23/23 [==============================] - 1s 44ms/step - loss: 0.0858 - accuracy: 0.9779 - val_loss: 0.7154 - val_accuracy: 0.7876\n",
      "Epoch 12/15\n",
      "23/23 [==============================] - 1s 44ms/step - loss: 0.0639 - accuracy: 0.9801 - val_loss: 0.6455 - val_accuracy: 0.8230\n",
      "Epoch 13/15\n",
      "23/23 [==============================] - 1s 44ms/step - loss: 0.0225 - accuracy: 0.9934 - val_loss: 0.6201 - val_accuracy: 0.7965\n",
      "Epoch 14/15\n",
      "23/23 [==============================] - 1s 42ms/step - loss: 0.0103 - accuracy: 0.9978 - val_loss: 0.6379 - val_accuracy: 0.8407\n",
      "Epoch 15/15\n",
      "23/23 [==============================] - 1s 44ms/step - loss: 0.0037 - accuracy: 0.9978 - val_loss: 0.8105 - val_accuracy: 0.8496\n"
     ]
    }
   ],
   "source": [
    "EMB_DIM = 32\n",
    "\n",
    "model = tf.keras.Sequential([\n",
    "\n",
    "    tf.keras.layers.Embedding(VOCAB_SIZE,EMB_DIM,input_length=MAXLEN), \n",
    "    tf.keras.layers.Bidirectional(tf.keras.layers.LSTM(64,dropout=0.2,return_sequences=True)),\n",
    "    tf.keras.layers.Bidirectional(tf.keras.layers.LSTM(64)),\n",
    "    tf.keras.layers.Dense(32, activation='relu'),\n",
    "    tf.keras.layers.Dense(2, activation='softmax')\n",
    "])\n",
    "model.compile(loss='sparse_categorical_crossentropy',optimizer='adam',metrics=['accuracy'])\n",
    "history = model.fit(X_train, y_train, batch_size=20, epochs=15, validation_data=(X_val, y_val))"
   ]
  },
  {
   "cell_type": "code",
   "execution_count": 32,
   "id": "52f5f25e",
   "metadata": {},
   "outputs": [
    {
     "data": {
      "image/png": "[encoded data removed]",
      "text/plain": [
       "<Figure size 1008x432 with 2 Axes>"
      ]
     },
     "metadata": {
      "needs_background": "light"
     },
     "output_type": "display_data"
    }
   ],
   "source": [
    "plt.figure(figsize=(14,6))\n",
    "plt.subplot(1,2,1)\n",
    "plt.yticks(np.arange(-1, 1, 0.05))\n",
    "plt.plot(history.history[\"accuracy\"])\n",
    "plt.plot(history.history['val_accuracy'])\n",
    "plt.xlabel(\"Epochs\")\n",
    "plt.ylabel(\"Accuracy\")\n",
    "plt.legend([\"accuracy\", 'val_accuracy'])\n",
    "\n",
    "plt.subplot(1,2,2)\n",
    "plt.plot(history.history[\"loss\"])\n",
    "plt.plot(history.history['val_loss'])\n",
    "plt.xlabel(\"Epochs\")\n",
    "plt.ylabel(\"Loss\")\n",
    "plt.legend([\"loss\", 'val_loss'])\n",
    "plt.show()"
   ]
  },
  {
   "cell_type": "code",
   "execution_count": 33,
   "id": "16201971",
   "metadata": {},
   "outputs": [
    {
     "name": "stdout",
     "output_type": "stream",
     "text": [
      "Training accuracy: 1.0000 \tTraining loss: 0.0001\n",
      "Validation accuracy: 0.8496 \tValidation loss: 0.8464\n",
      "Testing accuracy: 0.8440 \tTesting loss: 0.9007\n"
     ]
    }
   ],
   "source": [
    "loss, accuracy = model.evaluate(X_train, y_train,verbose=False)\n",
    "print(\"Training accuracy: {:.4f}\".format(accuracy),\"\\tTraining loss: {:.4f}\".format(loss))\n",
    "loss, accuracy = model.evaluate(X_val, y_val,verbose=False)\n",
    "print(\"Validation accuracy: {:.4f}\".format(accuracy),\"\\tValidation loss: {:.4f}\".format(loss))\n",
    "loss, accuracy = model.evaluate(X_test, y_test,verbose=False)\n",
    "print(\"Testing accuracy: {:.4f}\".format(accuracy),\"\\tTesting loss: {:.4f}\".format(loss))"
   ]
  }
 ],
 "metadata": {
  "kernelspec": {
   "display_name": "Python 3 (ipykernel)",
   "language": "python",
   "name": "python3"
  },
  "language_info": {
   "codemirror_mode": {
    "name": "ipython",
    "version": 3
   },
   "file_extension": ".py",
   "mimetype": "text/x-python",
   "name": "python",
   "nbconvert_exporter": "python",
   "pygments_lexer": "ipython3",
   "version": "3.8.12"
  }
 },
 "nbformat": 4,
 "nbformat_minor": 5
}
